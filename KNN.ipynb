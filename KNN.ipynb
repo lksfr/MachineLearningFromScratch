{
 "cells": [
  {
   "cell_type": "markdown",
   "metadata": {},
   "source": [
    "As always, let's start by importing packages and generating dummy data. In this notebook, we are going to try to implement KNN for classification."
   ]
  },
  {
   "cell_type": "code",
   "execution_count": 2,
   "metadata": {},
   "outputs": [],
   "source": [
    "%matplotlib inline\n",
    "import scipy.stats as stats\n",
    "import numpy as np\n",
    "import pandas as pd\n",
    "import math\n",
    "import matplotlib.pyplot as plt\n",
    "import seaborn as sns\n",
    "plt.style.use('seaborn')"
   ]
  },
  {
   "cell_type": "code",
   "execution_count": 3,
   "metadata": {},
   "outputs": [],
   "source": [
    "#we're going to generate normally distributed, well-separated data to test our model\n",
    "X_11 = pd.Series(np.random.normal(1,2,5))\n",
    "X_12 = pd.Series(np.random.normal(7,2,5))\n",
    "X_1 = pd.concat([X_11, X_12]).reset_index(drop=True)\n",
    "X_2 = pd.Series(np.random.normal(2,2,10))\n",
    "Y = pd.Series(np.repeat([0,1],5))\n",
    "data = pd.concat([X_1, X_2, Y], axis=1)\n",
    "data.columns = ['X1', 'X2', 'Y']"
   ]
  },
  {
   "cell_type": "code",
   "execution_count": 4,
   "metadata": {},
   "outputs": [
    {
     "data": {
      "text/html": [
       "<div>\n",
       "<style scoped>\n",
       "    .dataframe tbody tr th:only-of-type {\n",
       "        vertical-align: middle;\n",
       "    }\n",
       "\n",
       "    .dataframe tbody tr th {\n",
       "        vertical-align: top;\n",
       "    }\n",
       "\n",
       "    .dataframe thead th {\n",
       "        text-align: right;\n",
       "    }\n",
       "</style>\n",
       "<table border=\"1\" class=\"dataframe\">\n",
       "  <thead>\n",
       "    <tr style=\"text-align: right;\">\n",
       "      <th></th>\n",
       "      <th>X1</th>\n",
       "      <th>X2</th>\n",
       "      <th>Y</th>\n",
       "    </tr>\n",
       "  </thead>\n",
       "  <tbody>\n",
       "    <tr>\n",
       "      <th>0</th>\n",
       "      <td>0.477053</td>\n",
       "      <td>1.304112</td>\n",
       "      <td>0</td>\n",
       "    </tr>\n",
       "    <tr>\n",
       "      <th>1</th>\n",
       "      <td>1.306423</td>\n",
       "      <td>5.739800</td>\n",
       "      <td>0</td>\n",
       "    </tr>\n",
       "    <tr>\n",
       "      <th>2</th>\n",
       "      <td>3.664575</td>\n",
       "      <td>0.797492</td>\n",
       "      <td>0</td>\n",
       "    </tr>\n",
       "    <tr>\n",
       "      <th>3</th>\n",
       "      <td>-2.602126</td>\n",
       "      <td>2.452055</td>\n",
       "      <td>0</td>\n",
       "    </tr>\n",
       "    <tr>\n",
       "      <th>4</th>\n",
       "      <td>-1.182181</td>\n",
       "      <td>4.719134</td>\n",
       "      <td>0</td>\n",
       "    </tr>\n",
       "    <tr>\n",
       "      <th>5</th>\n",
       "      <td>8.570116</td>\n",
       "      <td>2.243422</td>\n",
       "      <td>1</td>\n",
       "    </tr>\n",
       "    <tr>\n",
       "      <th>6</th>\n",
       "      <td>6.321854</td>\n",
       "      <td>2.981976</td>\n",
       "      <td>1</td>\n",
       "    </tr>\n",
       "    <tr>\n",
       "      <th>7</th>\n",
       "      <td>1.618610</td>\n",
       "      <td>1.864182</td>\n",
       "      <td>1</td>\n",
       "    </tr>\n",
       "    <tr>\n",
       "      <th>8</th>\n",
       "      <td>9.241644</td>\n",
       "      <td>2.107962</td>\n",
       "      <td>1</td>\n",
       "    </tr>\n",
       "    <tr>\n",
       "      <th>9</th>\n",
       "      <td>7.788906</td>\n",
       "      <td>2.307428</td>\n",
       "      <td>1</td>\n",
       "    </tr>\n",
       "  </tbody>\n",
       "</table>\n",
       "</div>"
      ],
      "text/plain": [
       "         X1        X2  Y\n",
       "0  0.477053  1.304112  0\n",
       "1  1.306423  5.739800  0\n",
       "2  3.664575  0.797492  0\n",
       "3 -2.602126  2.452055  0\n",
       "4 -1.182181  4.719134  0\n",
       "5  8.570116  2.243422  1\n",
       "6  6.321854  2.981976  1\n",
       "7  1.618610  1.864182  1\n",
       "8  9.241644  2.107962  1\n",
       "9  7.788906  2.307428  1"
      ]
     },
     "execution_count": 4,
     "metadata": {},
     "output_type": "execute_result"
    }
   ],
   "source": [
    "data"
   ]
  },
  {
   "cell_type": "code",
   "execution_count": 5,
   "metadata": {},
   "outputs": [
    {
     "data": {
      "text/plain": [
       "Text(0.5, 1.0, 'First Look')"
      ]
     },
     "execution_count": 5,
     "metadata": {},
     "output_type": "execute_result"
    },
    {
     "data": {
      "image/png": "[encoded data removed]",
      "text/plain": [
       "<Figure size 401.625x360 with 1 Axes>"
      ]
     },
     "metadata": {},
     "output_type": "display_data"
    }
   ],
   "source": [
    "sns.lmplot('X1', 'X2', data=data, hue='Y', fit_reg=False)\n",
    "plt.title('First Look')"
   ]
  },
  {
   "cell_type": "markdown",
   "metadata": {},
   "source": [
    "Now that we have our data, we can start thinking about KNN. One of the choices you have to make for KNN is the distance measure you're going to use.\n",
    "\n",
    "We are dealing with real-valued data so let's just use the Euclidean distance:"
   ]
  },
  {
   "cell_type": "markdown",
   "metadata": {},
   "source": [
    "<center>\n",
    "    $D(x_1, x_2) = \\sqrt{\\sum_{i=1}^n (x_1 - x_2)^2}$ "
   ]
  },
  {
   "cell_type": "markdown",
   "metadata": {},
   "source": [
    "Example using two training observations:"
   ]
  },
  {
   "cell_type": "code",
   "execution_count": 6,
   "metadata": {},
   "outputs": [
    {
     "name": "stdout",
     "output_type": "stream",
     "text": [
      "First observation:\n",
      "X1: 1.6186097959527883, X2: 1.8641823174450576\n",
      "Second observation:\n",
      "X1: 3.6645750744684396, X2: 1.8641823174450576\n"
     ]
    }
   ],
   "source": [
    "#randomly selecting two training observations\n",
    "observation1 = data.iloc[np.random.randint(0,9), 0:2]\n",
    "observation2 = data.iloc[np.random.randint(0,9), 0:2]\n",
    "print('First observation:\\nX1: {}, X2: {}'.format(observation1.X1, observation1.X2))\n",
    "print('Second observation:\\nX1: {}, X2: {}'.format(observation2.X1, observation1.X2))"
   ]
  },
  {
   "cell_type": "code",
   "execution_count": 7,
   "metadata": {},
   "outputs": [],
   "source": [
    "#defining a function to compute the distance between two data points\n",
    "def eucl(obs1, obs2):\n",
    "    \"\"\"\n",
    "    Input: two data points (with two attributes)\n",
    "    Output: Euclidean distance between the two data points\n",
    "    \"\"\"\n",
    "    squared_diff1 = (obs1[0] - obs2[0])**2\n",
    "    squared_diff2 = (obs1[1] - obs2[1])**2\n",
    "    \n",
    "    sum_sq_diff = squared_diff1 + squared_diff2\n",
    "    \n",
    "    distance = np.sqrt(sum_sq_diff)\n",
    "    \n",
    "    return distance"
   ]
  },
  {
   "cell_type": "code",
   "execution_count": 8,
   "metadata": {},
   "outputs": [
    {
     "data": {
      "text/plain": [
       "2.307336405226247"
      ]
     },
     "execution_count": 8,
     "metadata": {},
     "output_type": "execute_result"
    }
   ],
   "source": [
    "eucl(observation1, observation2)"
   ]
  },
  {
   "cell_type": "markdown",
   "metadata": {},
   "source": [
    "Therefore, the Euclidean distance between our two randomly selected observations is ~0.5."
   ]
  },
  {
   "cell_type": "markdown",
   "metadata": {},
   "source": [
    "Let's assume we encounter a brand new observation. How do we classify it?"
   ]
  },
  {
   "cell_type": "code",
   "execution_count": 9,
   "metadata": {},
   "outputs": [],
   "source": [
    "#generating new observation\n",
    "X_1 = pd.Series(np.random.normal(7,2,1))\n",
    "X_2 = pd.Series(np.random.normal(2,2,1))\n",
    "new_data = pd.concat([X_1, X_2], axis=1)\n",
    "new_data.columns = ['X1', 'X2']"
   ]
  },
  {
   "cell_type": "code",
   "execution_count": 10,
   "metadata": {},
   "outputs": [
    {
     "data": {
      "text/html": [
       "<div>\n",
       "<style scoped>\n",
       "    .dataframe tbody tr th:only-of-type {\n",
       "        vertical-align: middle;\n",
       "    }\n",
       "\n",
       "    .dataframe tbody tr th {\n",
       "        vertical-align: top;\n",
       "    }\n",
       "\n",
       "    .dataframe thead th {\n",
       "        text-align: right;\n",
       "    }\n",
       "</style>\n",
       "<table border=\"1\" class=\"dataframe\">\n",
       "  <thead>\n",
       "    <tr style=\"text-align: right;\">\n",
       "      <th></th>\n",
       "      <th>X1</th>\n",
       "      <th>X2</th>\n",
       "    </tr>\n",
       "  </thead>\n",
       "  <tbody>\n",
       "    <tr>\n",
       "      <th>0</th>\n",
       "      <td>6.871136</td>\n",
       "      <td>1.100847</td>\n",
       "    </tr>\n",
       "  </tbody>\n",
       "</table>\n",
       "</div>"
      ],
      "text/plain": [
       "         X1        X2\n",
       "0  6.871136  1.100847"
      ]
     },
     "execution_count": 10,
     "metadata": {},
     "output_type": "execute_result"
    }
   ],
   "source": [
    "new_data"
   ]
  },
  {
   "cell_type": "markdown",
   "metadata": {},
   "source": [
    "Now, we're going to calculate the distances between this new observation and all previous observations:"
   ]
  },
  {
   "cell_type": "code",
   "execution_count": 11,
   "metadata": {},
   "outputs": [
    {
     "data": {
      "text/plain": [
       "[(0.47705278515824534, 1.3041119568456874, 0),\n",
       " (1.3064228212614508, 5.739800291697937, 0),\n",
       " (3.6645750744684396, 0.7974924065568214, 0),\n",
       " (-2.6021262948528796, 2.4520546791225737, 0),\n",
       " (-1.1821805048991294, 4.719134122763282, 0),\n",
       " (8.570115940210993, 2.2434218949734026, 1),\n",
       " (6.321854176922117, 2.9819764862653932, 1),\n",
       " (1.6186097959527883, 1.8641823174450576, 1),\n",
       " (9.24164364799513, 2.107961921161105, 1),\n",
       " (7.788906150274311, 2.307428100912765, 1)]"
      ]
     },
     "execution_count": 11,
     "metadata": {},
     "output_type": "execute_result"
    }
   ],
   "source": [
    "#converting our data for computation\n",
    "previous_obs = list(zip(list(data.X1), list(data.X2), list(data.Y)))\n",
    "previous_obs"
   ]
  },
  {
   "cell_type": "code",
   "execution_count": 12,
   "metadata": {},
   "outputs": [],
   "source": [
    "results = []\n",
    "for el in previous_obs:\n",
    "    \n",
    "    distance = eucl(el[0:2], new_data.iloc[0,0:2])\n",
    "    results.append((distance, el[2]))"
   ]
  },
  {
   "cell_type": "markdown",
   "metadata": {},
   "source": [
    "Assuming we've set k=2, we are going to search for the two most similar observations now (the two observations with the shortest distance result from our previous calculation)."
   ]
  },
  {
   "cell_type": "code",
   "execution_count": 13,
   "metadata": {},
   "outputs": [
    {
     "data": {
      "text/plain": [
       "[(1.5159616057566097, 1),\n",
       " (1.9596833419210875, 1),\n",
       " (2.047439745704345, 1),\n",
       " (2.5755748873341417, 1),\n",
       " (3.2208784904111067, 0),\n",
       " (5.307703303695833, 1),\n",
       " (6.397313444090892, 0),\n",
       " (7.244716860608643, 0),\n",
       " (8.828811439674812, 0),\n",
       " (9.569141255082544, 0)]"
      ]
     },
     "execution_count": 13,
     "metadata": {},
     "output_type": "execute_result"
    }
   ],
   "source": [
    "results.sort(key=lambda x: x[0])\n",
    "results"
   ]
  },
  {
   "cell_type": "markdown",
   "metadata": {},
   "source": [
    "The two closest values are of class 1, so we're going to classify our new observation as class 1 as well! And we're done!"
   ]
  },
  {
   "cell_type": "code",
   "execution_count": null,
   "metadata": {},
   "outputs": [],
   "source": []
  }
 ],
 "metadata": {
  "kernelspec": {
   "display_name": "Python 3",
   "language": "python",
   "name": "python3"
  },
  "language_info": {
   "codemirror_mode": {
    "name": "ipython",
    "version": 3
   },
   "file_extension": ".py",
   "mimetype": "text/x-python",
   "name": "python",
   "nbconvert_exporter": "python",
   "pygments_lexer": "ipython3",
   "version": "3.6.5"
  }
 },
 "nbformat": 4,
 "nbformat_minor": 2
}
